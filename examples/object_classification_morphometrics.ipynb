{
 "cells": [
  {
   "cell_type": "code",
   "execution_count": 1,
   "id": "1a33f21a",
   "metadata": {},
   "outputs": [],
   "source": [
    "%matplotlib inline\n",
    "import anndata\n",
    "from morphometrics.measure import measure_selected\n",
    "import napari\n",
    "import numpy as np\n",
    "import pandas as pd\n",
    "import pymeshfix\n",
    "import pyvista as pv\n",
    "import scanpy as sc\n",
    "from skimage import draw\n",
    "from skimage.measure import marching_cubes\n",
    "\n",
    "rng = np.random.default_rng(42)"
   ]
  },
  {
   "cell_type": "code",
   "execution_count": 2,
   "id": "d8b4c6b3",
   "metadata": {},
   "outputs": [
    {
     "name": "stdout",
     "output_type": "stream",
     "text": [
      "3.3333333333333335\n"
     ]
    }
   ],
   "source": [
    "sphere_volume = (4/3) * np.pi  * (5**3)\n",
    "\n",
    "cylinder_length = 15\n",
    "cylinder_circle_area = sphere_volume / cylinder_length\n",
    "cylinder_radius = np.sqrt(cylinder_circle_area / np.pi)\n",
    "print(cylinder_radius)"
   ]
  },
  {
   "cell_type": "code",
   "execution_count": 3,
   "id": "5ae85b64",
   "metadata": {},
   "outputs": [],
   "source": [
    "def make_cylinder():\n",
    "    length_nominal = cylinder_length\n",
    "    length_stdev = 1\n",
    "    length = rng.normal(length_nominal, length_stdev)\n",
    "    \n",
    "    radius_nominal = cylinder_radius\n",
    "    radius_stdev = 1\n",
    "    radius = rng.normal(radius_nominal, radius_stdev)\n",
    "    \n",
    "    rr, cc = draw.disk((10, 10), radius)\n",
    "    circle_image = np.zeros((20, 20), dtype=bool)\n",
    "    circle_image[rr, cc] = True\n",
    "    \n",
    "    # extrude \n",
    "    \n",
    "    return np.repeat(circle_image[np.newaxis, :, :], length, axis=0)\n",
    "\n",
    "\n",
    "def make_sphere():\n",
    "    radius_nominal = 5\n",
    "    radius_stdev = 1\n",
    "    radius = rng.normal(radius_nominal, radius_stdev)\n",
    "\n",
    "    return draw.ellipsoid(radius, radius, radius)"
   ]
  },
  {
   "cell_type": "code",
   "execution_count": 4,
   "id": "f9ff8631",
   "metadata": {},
   "outputs": [],
   "source": [
    "object_functions = {\n",
    "    'cylinder': make_cylinder,\n",
    "    'sphere': make_sphere\n",
    "}"
   ]
  },
  {
   "cell_type": "code",
   "execution_count": 5,
   "id": "c6b1513e",
   "metadata": {},
   "outputs": [],
   "source": [
    "label_image = np.zeros((300, 300, 300), dtype=int)\n",
    "intensity_image = np.zeros((300, 300, 300), dtype=float)\n",
    "\n",
    "label_index = 1\n",
    "label_records = []\n",
    "\n",
    "# embed the image\n",
    "for x_start in np.arange(0, 300, 50):\n",
    "    for y_start in np.arange(0, 300, 50):\n",
    "        for z_start in np.arange(0, 300, 50):\n",
    "            object_index = rng.choice(['cylinder', 'sphere'])\n",
    "            object_func = object_functions[object_index]\n",
    "            object_mask = object_func()\n",
    "            \n",
    "            \n",
    "            object_coords = np.argwhere(object_mask)\n",
    "            \n",
    "            z_coords = z_start + object_coords[:, 0]\n",
    "            y_coords = y_start + object_coords[:, 1]\n",
    "            x_coords = x_start + object_coords[:, 2]\n",
    "            \n",
    "            label_image[z_coords, y_coords, x_coords] = label_index\n",
    "            intensity_image[z_coords, y_coords, x_coords] = np.random.rand()\n",
    "            \n",
    "            label_records.append(\n",
    "                {\n",
    "                    'label_index': label_index,\n",
    "                    'shape': object_index\n",
    "                }\n",
    "            )\n",
    "            \n",
    "            label_index += 1\n",
    "\n",
    "label_table = pd.DataFrame(label_records)"
   ]
  },
  {
   "cell_type": "code",
   "execution_count": 6,
   "id": "8354e823",
   "metadata": {},
   "outputs": [
    {
     "data": {
      "text/plain": [
       "<Image layer 'intensity_image' at 0x7f2d61390e20>"
      ]
     },
     "execution_count": 6,
     "metadata": {},
     "output_type": "execute_result"
    },
    {
     "name": "stderr",
     "output_type": "stream",
     "text": [
      "ERROR:tornado.general:Uncaught exception in ZMQStream callback\n",
      "Traceback (most recent call last):\n",
      "  File \"/local0/kevin/miniconda3/lib/python3.8/site-packages/zmq/eventloop/zmqstream.py\", line 431, in _run_callback\n",
      "    callback(*args, **kwargs)\n",
      "  File \"/local0/kevin/miniconda3/lib/python3.8/site-packages/jupyter_client/threaded.py\", line 121, in _handle_recv\n",
      "    msg_list = self.ioloop._asyncio_event_loop.run_until_complete(get_msg(future_msg))\n",
      "  File \"/local0/kevin/miniconda3/lib/python3.8/asyncio/base_events.py\", line 592, in run_until_complete\n",
      "    self._check_running()\n",
      "  File \"/local0/kevin/miniconda3/lib/python3.8/asyncio/base_events.py\", line 554, in _check_running\n",
      "    raise RuntimeError(\n",
      "RuntimeError: Cannot run the event loop while another loop is running\n",
      "ERROR:tornado.general:Uncaught exception in zmqstream callback\n",
      "Traceback (most recent call last):\n",
      "  File \"/local0/kevin/miniconda3/lib/python3.8/site-packages/zmq/eventloop/zmqstream.py\", line 452, in _handle_events\n",
      "    self._handle_recv()\n",
      "  File \"/local0/kevin/miniconda3/lib/python3.8/site-packages/zmq/eventloop/zmqstream.py\", line 481, in _handle_recv\n",
      "    self._run_callback(callback, msg)\n",
      "  File \"/local0/kevin/miniconda3/lib/python3.8/site-packages/zmq/eventloop/zmqstream.py\", line 431, in _run_callback\n",
      "    callback(*args, **kwargs)\n",
      "  File \"/local0/kevin/miniconda3/lib/python3.8/site-packages/jupyter_client/threaded.py\", line 121, in _handle_recv\n",
      "    msg_list = self.ioloop._asyncio_event_loop.run_until_complete(get_msg(future_msg))\n",
      "  File \"/local0/kevin/miniconda3/lib/python3.8/asyncio/base_events.py\", line 592, in run_until_complete\n",
      "    self._check_running()\n",
      "  File \"/local0/kevin/miniconda3/lib/python3.8/asyncio/base_events.py\", line 554, in _check_running\n",
      "    raise RuntimeError(\n",
      "RuntimeError: Cannot run the event loop while another loop is running\n",
      "Exception in callback BaseAsyncIOLoop._handle_events(107, 1)\n",
      "handle: <Handle BaseAsyncIOLoop._handle_events(107, 1)>\n",
      "Traceback (most recent call last):\n",
      "  File \"/local0/kevin/miniconda3/lib/python3.8/asyncio/events.py\", line 81, in _run\n",
      "    self._context.run(self._callback, *self._args)\n",
      "  File \"/local0/kevin/miniconda3/lib/python3.8/site-packages/tornado/platform/asyncio.py\", line 189, in _handle_events\n",
      "    handler_func(fileobj, events)\n",
      "  File \"/local0/kevin/miniconda3/lib/python3.8/site-packages/zmq/eventloop/zmqstream.py\", line 452, in _handle_events\n",
      "    self._handle_recv()\n",
      "  File \"/local0/kevin/miniconda3/lib/python3.8/site-packages/zmq/eventloop/zmqstream.py\", line 481, in _handle_recv\n",
      "    self._run_callback(callback, msg)\n",
      "  File \"/local0/kevin/miniconda3/lib/python3.8/site-packages/zmq/eventloop/zmqstream.py\", line 431, in _run_callback\n",
      "    callback(*args, **kwargs)\n",
      "  File \"/local0/kevin/miniconda3/lib/python3.8/site-packages/jupyter_client/threaded.py\", line 121, in _handle_recv\n",
      "    msg_list = self.ioloop._asyncio_event_loop.run_until_complete(get_msg(future_msg))\n",
      "  File \"/local0/kevin/miniconda3/lib/python3.8/asyncio/base_events.py\", line 592, in run_until_complete\n",
      "    self._check_running()\n",
      "  File \"/local0/kevin/miniconda3/lib/python3.8/asyncio/base_events.py\", line 554, in _check_running\n",
      "    raise RuntimeError(\n",
      "RuntimeError: Cannot run the event loop while another loop is running\n"
     ]
    }
   ],
   "source": [
    "viewer = napari.view_labels(label_image)\n",
    "viewer.add_image(intensity_image)"
   ]
  },
  {
   "cell_type": "code",
   "execution_count": 8,
   "id": "cc60dbf2",
   "metadata": {},
   "outputs": [
    {
     "name": "stderr",
     "output_type": "stream",
     "text": [
      "/local0/kevin/miniconda3/lib/python3.8/site-packages/skimage/measure/_regionprops.py:395: UserWarning: Failed to get convex hull image. Returning empty image, see error message below:\n",
      "QH6154 Qhull precision error: Initial simplex is flat (facet 1 is coplanar with the interior point)\n",
      "\n",
      "While executing:  | qhull i Qt\n",
      "Options selected for Qhull 2019.1.r 2019/06/21:\n",
      "  run-id 1101950558  incidence  Qtriangulate  _pre-merge  _zero-centrum\n",
      "  _max-width 15  Error-roundoff 1.3e-14  _one-merge 9.4e-14\n",
      "  _near-inside 4.7e-13  Visible-distance 2.7e-14  U-max-coplanar 2.7e-14\n",
      "  Width-outside 5.4e-14  _wide-facet 1.6e-13  _maxoutside 1.1e-13\n",
      "\n",
      "precision problems (corrected unless 'Q0' or an error)\n",
      "      4 degenerate hyperplanes recomputed with gaussian elimination\n",
      "      4 nearly singular or axis-parallel hyperplanes\n",
      "      4 zero divisors during back substitute\n",
      "      4 zero divisors during gaussian elimination\n",
      "\n",
      "The input to qhull appears to be less than 3 dimensional, or a\n",
      "computation has overflowed.\n",
      "\n",
      "Qhull could not construct a clearly convex simplex from points:\n",
      "- p2(v4):     2     0     0\n",
      "- p1(v3):     1     0     0\n",
      "- p15(v2):    15     0     0\n",
      "- p0(v1):     0     0     0\n",
      "\n",
      "The center point is coplanar with a facet, or a vertex is coplanar\n",
      "with a neighboring facet.  The maximum round off error for\n",
      "computing distances is 1.3e-14.  The center point, facets and distances\n",
      "to the center point are as follows:\n",
      "\n",
      "center point      4.5        0        0\n",
      "\n",
      "facet p1 p15 p0 distance=    0\n",
      "facet p2 p15 p0 distance=    0\n",
      "facet p2 p1 p0 distance=    0\n",
      "facet p2 p1 p15 distance=    0\n",
      "\n",
      "These points either have a maximum or minimum x-coordinate, or\n",
      "they maximize the determinant for k coordinates.  Trial points\n",
      "are first selected from points that maximize a coordinate.\n",
      "\n",
      "The min and max coordinates for each dimension are:\n",
      "  0:         0        15  difference=   15\n",
      "  1:         0         0  difference=    0\n",
      "  2:         0         0  difference=    0\n",
      "\n",
      "If the input should be full dimensional, you have several options that\n",
      "may determine an initial simplex:\n",
      "  - use 'QJ'  to joggle the input and make it full dimensional\n",
      "  - use 'QbB' to scale the points to the unit cube\n",
      "  - use 'QR0' to randomly rotate the input for different maximum points\n",
      "  - use 'Qs'  to search all points for the initial simplex\n",
      "  - use 'En'  to specify a maximum roundoff error less than 1.3e-14.\n",
      "  - trace execution with 'T3' to see the determinant for each point.\n",
      "\n",
      "If the input is lower dimensional:\n",
      "  - use 'QJ' to joggle the input and make it full dimensional\n",
      "  - use 'Qbk:0Bk:0' to delete coordinate k from the input.  You should\n",
      "    pick the coordinate with the least range.  The hull will have the\n",
      "    correct topology.\n",
      "  - determine the flat containing the points, rotate the points\n",
      "    into a coordinate plane, and delete the other coordinates.\n",
      "  - add one or more points to make the input full dimensional.\n",
      "\n",
      "  return convex_hull_image(self.image)\n"
     ]
    },
    {
     "data": {
      "text/html": [
       "<div>\n",
       "<style scoped>\n",
       "    .dataframe tbody tr th:only-of-type {\n",
       "        vertical-align: middle;\n",
       "    }\n",
       "\n",
       "    .dataframe tbody tr th {\n",
       "        vertical-align: top;\n",
       "    }\n",
       "\n",
       "    .dataframe thead th {\n",
       "        text-align: right;\n",
       "    }\n",
       "</style>\n",
       "<table border=\"1\" class=\"dataframe\">\n",
       "  <thead>\n",
       "    <tr style=\"text-align: right;\">\n",
       "      <th></th>\n",
       "      <th>surface_area</th>\n",
       "      <th>curvature_mean</th>\n",
       "      <th>curvature_stdev</th>\n",
       "      <th>curvature_0</th>\n",
       "      <th>curvature_10</th>\n",
       "      <th>curvature_20</th>\n",
       "      <th>curvature_30</th>\n",
       "      <th>curvature_40</th>\n",
       "      <th>curvature_50</th>\n",
       "      <th>curvature_60</th>\n",
       "      <th>...</th>\n",
       "      <th>moments_central-3-1-3</th>\n",
       "      <th>moments_central-3-2-0</th>\n",
       "      <th>moments_central-3-2-1</th>\n",
       "      <th>moments_central-3-2-2</th>\n",
       "      <th>moments_central-3-2-3</th>\n",
       "      <th>moments_central-3-3-0</th>\n",
       "      <th>moments_central-3-3-1</th>\n",
       "      <th>moments_central-3-3-2</th>\n",
       "      <th>moments_central-3-3-3</th>\n",
       "      <th>standard_deviation_intensity</th>\n",
       "    </tr>\n",
       "    <tr>\n",
       "      <th>label</th>\n",
       "      <th></th>\n",
       "      <th></th>\n",
       "      <th></th>\n",
       "      <th></th>\n",
       "      <th></th>\n",
       "      <th></th>\n",
       "      <th></th>\n",
       "      <th></th>\n",
       "      <th></th>\n",
       "      <th></th>\n",
       "      <th></th>\n",
       "      <th></th>\n",
       "      <th></th>\n",
       "      <th></th>\n",
       "      <th></th>\n",
       "      <th></th>\n",
       "      <th></th>\n",
       "      <th></th>\n",
       "      <th></th>\n",
       "      <th></th>\n",
       "      <th></th>\n",
       "    </tr>\n",
       "  </thead>\n",
       "  <tbody>\n",
       "    <tr>\n",
       "      <th>1</th>\n",
       "      <td>351.880820</td>\n",
       "      <td>-0.230401</td>\n",
       "      <td>0.159812</td>\n",
       "      <td>-1.361385</td>\n",
       "      <td>-0.414511</td>\n",
       "      <td>-0.315920</td>\n",
       "      <td>-0.262474</td>\n",
       "      <td>-0.207644</td>\n",
       "      <td>-0.170360</td>\n",
       "      <td>-0.155826</td>\n",
       "      <td>...</td>\n",
       "      <td>0.0</td>\n",
       "      <td>0.0</td>\n",
       "      <td>0.0</td>\n",
       "      <td>0.0</td>\n",
       "      <td>0.0</td>\n",
       "      <td>0.0</td>\n",
       "      <td>0.0</td>\n",
       "      <td>0.0</td>\n",
       "      <td>0.0</td>\n",
       "      <td>1.387779e-17</td>\n",
       "    </tr>\n",
       "    <tr>\n",
       "      <th>2</th>\n",
       "      <td>423.543536</td>\n",
       "      <td>-0.179639</td>\n",
       "      <td>0.038140</td>\n",
       "      <td>-0.288373</td>\n",
       "      <td>-0.235295</td>\n",
       "      <td>-0.206757</td>\n",
       "      <td>-0.188081</td>\n",
       "      <td>-0.179938</td>\n",
       "      <td>-0.173197</td>\n",
       "      <td>-0.166138</td>\n",
       "      <td>...</td>\n",
       "      <td>0.0</td>\n",
       "      <td>0.0</td>\n",
       "      <td>0.0</td>\n",
       "      <td>0.0</td>\n",
       "      <td>0.0</td>\n",
       "      <td>0.0</td>\n",
       "      <td>0.0</td>\n",
       "      <td>0.0</td>\n",
       "      <td>0.0</td>\n",
       "      <td>0.000000e+00</td>\n",
       "    </tr>\n",
       "    <tr>\n",
       "      <th>3</th>\n",
       "      <td>292.330160</td>\n",
       "      <td>-0.246173</td>\n",
       "      <td>0.120118</td>\n",
       "      <td>-0.813107</td>\n",
       "      <td>-0.402705</td>\n",
       "      <td>-0.336488</td>\n",
       "      <td>-0.278129</td>\n",
       "      <td>-0.241226</td>\n",
       "      <td>-0.204010</td>\n",
       "      <td>-0.190953</td>\n",
       "      <td>...</td>\n",
       "      <td>0.0</td>\n",
       "      <td>0.0</td>\n",
       "      <td>0.0</td>\n",
       "      <td>0.0</td>\n",
       "      <td>0.0</td>\n",
       "      <td>0.0</td>\n",
       "      <td>0.0</td>\n",
       "      <td>0.0</td>\n",
       "      <td>0.0</td>\n",
       "      <td>2.220446e-16</td>\n",
       "    </tr>\n",
       "    <tr>\n",
       "      <th>4</th>\n",
       "      <td>312.991514</td>\n",
       "      <td>-0.240918</td>\n",
       "      <td>0.118863</td>\n",
       "      <td>-0.813107</td>\n",
       "      <td>-0.392184</td>\n",
       "      <td>-0.328405</td>\n",
       "      <td>-0.267096</td>\n",
       "      <td>-0.234484</td>\n",
       "      <td>-0.200221</td>\n",
       "      <td>-0.183031</td>\n",
       "      <td>...</td>\n",
       "      <td>0.0</td>\n",
       "      <td>0.0</td>\n",
       "      <td>0.0</td>\n",
       "      <td>0.0</td>\n",
       "      <td>0.0</td>\n",
       "      <td>0.0</td>\n",
       "      <td>0.0</td>\n",
       "      <td>0.0</td>\n",
       "      <td>0.0</td>\n",
       "      <td>1.110223e-16</td>\n",
       "    </tr>\n",
       "    <tr>\n",
       "      <th>5</th>\n",
       "      <td>410.412383</td>\n",
       "      <td>-0.187453</td>\n",
       "      <td>0.047633</td>\n",
       "      <td>-0.301419</td>\n",
       "      <td>-0.244006</td>\n",
       "      <td>-0.236497</td>\n",
       "      <td>-0.204346</td>\n",
       "      <td>-0.196645</td>\n",
       "      <td>-0.176200</td>\n",
       "      <td>-0.167652</td>\n",
       "      <td>...</td>\n",
       "      <td>0.0</td>\n",
       "      <td>0.0</td>\n",
       "      <td>0.0</td>\n",
       "      <td>0.0</td>\n",
       "      <td>0.0</td>\n",
       "      <td>0.0</td>\n",
       "      <td>0.0</td>\n",
       "      <td>0.0</td>\n",
       "      <td>0.0</td>\n",
       "      <td>1.110223e-16</td>\n",
       "    </tr>\n",
       "  </tbody>\n",
       "</table>\n",
       "<p>5 rows × 214 columns</p>\n",
       "</div>"
      ],
      "text/plain": [
       "       surface_area  curvature_mean  curvature_stdev  curvature_0  \\\n",
       "label                                                               \n",
       "1        351.880820       -0.230401         0.159812    -1.361385   \n",
       "2        423.543536       -0.179639         0.038140    -0.288373   \n",
       "3        292.330160       -0.246173         0.120118    -0.813107   \n",
       "4        312.991514       -0.240918         0.118863    -0.813107   \n",
       "5        410.412383       -0.187453         0.047633    -0.301419   \n",
       "\n",
       "       curvature_10  curvature_20  curvature_30  curvature_40  curvature_50  \\\n",
       "label                                                                         \n",
       "1         -0.414511     -0.315920     -0.262474     -0.207644     -0.170360   \n",
       "2         -0.235295     -0.206757     -0.188081     -0.179938     -0.173197   \n",
       "3         -0.402705     -0.336488     -0.278129     -0.241226     -0.204010   \n",
       "4         -0.392184     -0.328405     -0.267096     -0.234484     -0.200221   \n",
       "5         -0.244006     -0.236497     -0.204346     -0.196645     -0.176200   \n",
       "\n",
       "       curvature_60  ...  moments_central-3-1-3  moments_central-3-2-0  \\\n",
       "label                ...                                                 \n",
       "1         -0.155826  ...                    0.0                    0.0   \n",
       "2         -0.166138  ...                    0.0                    0.0   \n",
       "3         -0.190953  ...                    0.0                    0.0   \n",
       "4         -0.183031  ...                    0.0                    0.0   \n",
       "5         -0.167652  ...                    0.0                    0.0   \n",
       "\n",
       "       moments_central-3-2-1  moments_central-3-2-2  moments_central-3-2-3  \\\n",
       "label                                                                        \n",
       "1                        0.0                    0.0                    0.0   \n",
       "2                        0.0                    0.0                    0.0   \n",
       "3                        0.0                    0.0                    0.0   \n",
       "4                        0.0                    0.0                    0.0   \n",
       "5                        0.0                    0.0                    0.0   \n",
       "\n",
       "       moments_central-3-3-0  moments_central-3-3-1  moments_central-3-3-2  \\\n",
       "label                                                                        \n",
       "1                        0.0                    0.0                    0.0   \n",
       "2                        0.0                    0.0                    0.0   \n",
       "3                        0.0                    0.0                    0.0   \n",
       "4                        0.0                    0.0                    0.0   \n",
       "5                        0.0                    0.0                    0.0   \n",
       "\n",
       "       moments_central-3-3-3  standard_deviation_intensity  \n",
       "label                                                       \n",
       "1                        0.0                  1.387779e-17  \n",
       "2                        0.0                  0.000000e+00  \n",
       "3                        0.0                  2.220446e-16  \n",
       "4                        0.0                  1.110223e-16  \n",
       "5                        0.0                  1.110223e-16  \n",
       "\n",
       "[5 rows x 214 columns]"
      ]
     },
     "execution_count": 8,
     "metadata": {},
     "output_type": "execute_result"
    }
   ],
   "source": [
    "measurement_selection = [\n",
    "    \"surface_properties_from_labels\",\n",
    "    {\n",
    "        \"name\": \"regionprops\",\n",
    "        \"choices\": {\n",
    "             \"size\": True,\n",
    "            \"intensity\": True,\n",
    "            \"position\": False,\n",
    "            \"moments\": True\n",
    "        },\n",
    "    },\n",
    "]\n",
    "\n",
    "all_measurements = measure_selected(\n",
    "    label_image=label_image,\n",
    "    intensity_image=intensity_image,\n",
    "    measurement_selection=measurement_selection,\n",
    ")\n",
    "\n",
    "all_measurements.head()"
   ]
  },
  {
   "cell_type": "code",
   "execution_count": 14,
   "id": "ef0dafa1",
   "metadata": {},
   "outputs": [],
   "source": [
    "var = all_measurements.columns.to_frame()\n",
    "X = all_measurements.fillna(0).to_numpy()\n",
    "obs = pd.concat((all_measurements, label_table.set_index('label_index')), axis=1)['shape'].reset_index()\n"
   ]
  },
  {
   "cell_type": "code",
   "execution_count": 15,
   "id": "3aef042e",
   "metadata": {},
   "outputs": [
    {
     "name": "stderr",
     "output_type": "stream",
     "text": [
      "/local0/kevin/miniconda3/lib/python3.8/site-packages/anndata/_core/anndata.py:120: ImplicitModificationWarning: Transforming to str index.\n",
      "  warnings.warn(\"Transforming to str index.\", ImplicitModificationWarning)\n"
     ]
    }
   ],
   "source": [
    "measurement_data = anndata.AnnData(X=X, var=var, obs=obs)"
   ]
  },
  {
   "cell_type": "code",
   "execution_count": 16,
   "id": "bf367b76",
   "metadata": {},
   "outputs": [
    {
     "name": "stdout",
     "output_type": "stream",
     "text": [
      "AnnData object with n_obs × n_vars = 216 × 214\n",
      "    obs: 'index', 'shape'\n",
      "    var: 0\n"
     ]
    }
   ],
   "source": [
    "print(measurement_data)"
   ]
  },
  {
   "cell_type": "code",
   "execution_count": 17,
   "id": "8e06dc2f",
   "metadata": {},
   "outputs": [
    {
     "name": "stderr",
     "output_type": "stream",
     "text": [
      "... storing 'shape' as categorical\n"
     ]
    }
   ],
   "source": [
    "sc.pp.scale(measurement_data)\n",
    "sc.tl.pca(measurement_data, svd_solver='arpack')\n",
    "sc.pl.pca(measurement_data, color=['shape'])"
   ]
  },
  {
   "cell_type": "code",
   "execution_count": 18,
   "id": "52ee7cd5",
   "metadata": {},
   "outputs": [],
   "source": [
    "sc.pl.pca_variance_ratio(measurement_data)"
   ]
  },
  {
   "cell_type": "code",
   "execution_count": 19,
   "id": "f3bbcf01",
   "metadata": {},
   "outputs": [],
   "source": [
    "sc.pp.neighbors(measurement_data, n_pcs=6)\n",
    "sc.tl.leiden(measurement_data)\n",
    "sc.tl.umap(measurement_data)\n",
    "sc.pl.umap(measurement_data, color='shape')"
   ]
  },
  {
   "cell_type": "code",
   "execution_count": 20,
   "id": "5e8f0ab0",
   "metadata": {},
   "outputs": [],
   "source": [
    "labels_properties = measurement_data.obs\n",
    "labels_properties['umap_0'] = measurement_data.obsm['X_umap'][:, 0]\n",
    "labels_properties['umap_1'] = measurement_data.obsm['X_umap'][:, 1]\n",
    "\n",
    "viewer.layers['label_image'].properties = labels_properties"
   ]
  },
  {
   "cell_type": "code",
   "execution_count": 21,
   "id": "acd6166d",
   "metadata": {},
   "outputs": [],
   "source": [
    "obs['shape_label'] = obs['shape'].map({'cylinder': 0, 'sphere': 1})\n",
    "y = obs['shape_label'].to_numpy()"
   ]
  },
  {
   "cell_type": "code",
   "execution_count": 22,
   "id": "99c964a8",
   "metadata": {},
   "outputs": [],
   "source": [
    "from sklearn.model_selection import train_test_split\n",
    "\n",
    "X_train, X_test, y_train, y_test = train_test_split(X, y, test_size=0.5, random_state=0)"
   ]
  },
  {
   "cell_type": "code",
   "execution_count": 23,
   "id": "a1afe05d",
   "metadata": {},
   "outputs": [
    {
     "data": {
      "text/plain": [
       "RandomForestClassifier()"
      ]
     },
     "execution_count": 23,
     "metadata": {},
     "output_type": "execute_result"
    }
   ],
   "source": [
    "from sklearn.ensemble import RandomForestClassifier\n",
    "\n",
    "clf=RandomForestClassifier(n_estimators=100)\n",
    "clf.fit(X_train, y_train)"
   ]
  },
  {
   "cell_type": "code",
   "execution_count": 24,
   "id": "7efcfc36",
   "metadata": {},
   "outputs": [
    {
     "name": "stdout",
     "output_type": "stream",
     "text": [
      "Accuracy: 1.0\n"
     ]
    }
   ],
   "source": [
    "from sklearn import metrics\n",
    "\n",
    "y_pred = clf.predict(X_test)\n",
    "print(\"Accuracy:\",metrics.accuracy_score(y_test, y_pred))"
   ]
  },
  {
   "cell_type": "code",
   "execution_count": 25,
   "id": "dde13944",
   "metadata": {},
   "outputs": [
    {
     "data": {
      "text/plain": [
       "<Labels layer 'prediction_image' at 0x7f2cdcc3d640>"
      ]
     },
     "execution_count": 25,
     "metadata": {},
     "output_type": "execute_result"
    }
   ],
   "source": [
    "# display predictions\n",
    "\n",
    "y_pred_all = clf.predict(X)\n",
    "\n",
    "prediction_image = np.zeros_like(label_image)\n",
    "\n",
    "for shape_prediction, label_index in zip(y_pred_all, obs['index']):\n",
    "    prediction_image[label_image == label_index] = shape_prediction + 1\n",
    "\n",
    "viewer.add_labels(prediction_image, color={1: [0, 1, 0, 1], 2: [1, 0, 1, 1]})"
   ]
  },
  {
   "cell_type": "code",
   "execution_count": null,
   "id": "16de4bec",
   "metadata": {},
   "outputs": [],
   "source": []
  }
 ],
 "metadata": {
  "kernelspec": {
   "display_name": "Python 3 (ipykernel)",
   "language": "python",
   "name": "python3"
  },
  "language_info": {
   "codemirror_mode": {
    "name": "ipython",
    "version": 3
   },
   "file_extension": ".py",
   "mimetype": "text/x-python",
   "name": "python",
   "nbconvert_exporter": "python",
   "pygments_lexer": "ipython3",
   "version": "3.8.5"
  }
 },
 "nbformat": 4,
 "nbformat_minor": 5
}
